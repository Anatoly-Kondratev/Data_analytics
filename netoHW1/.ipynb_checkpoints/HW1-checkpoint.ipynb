{
 "cells": [
  {
   "cell_type": "markdown",
   "id": "86016184",
   "metadata": {},
   "source": [
    "### Задание 1"
   ]
  },
  {
   "cell_type": "code",
   "execution_count": 43,
   "id": "b98a312b",
   "metadata": {},
   "outputs": [
    {
     "name": "stdout",
     "output_type": "stream",
     "text": [
      "Введите фразу 1Привет\n",
      "Введите фразу 2Пока\n",
      "Фраза 1 длиннее фразы 2\n"
     ]
    }
   ],
   "source": [
    "phrase_1 = (input('Введите фразу 1'))\n",
    "phrase_2 = (input('Введите фразу 2'))\n",
    "str1 = len(phrase_1)\n",
    "str2 = len(phrase_2)\n",
    "if str1 > str2:\n",
    "    print ('Фраза 1 длиннее фразы 2')\n",
    "elif str1 < str2:\n",
    "    print ('Фраза 1 короче фразы 2')\n",
    "else:\n",
    "    print ('Фразы равной длины')"
   ]
  },
  {
   "cell_type": "markdown",
   "id": "8e07034c",
   "metadata": {},
   "source": [
    "### Задание 2"
   ]
  },
  {
   "cell_type": "code",
   "execution_count": 42,
   "id": "73429604",
   "metadata": {},
   "outputs": [
    {
     "name": "stdout",
     "output_type": "stream",
     "text": [
      "Введите год1976\n",
      "Год високосный\n"
     ]
    }
   ],
   "source": [
    "year = int(input('Введите год'))\n",
    "if year%4==0:\n",
    "    print ('Год високосный')\n",
    "else: print ('Обычный год')"
   ]
  },
  {
   "cell_type": "markdown",
   "id": "38be3c17",
   "metadata": {},
   "source": [
    "### Задание 3"
   ]
  },
  {
   "cell_type": "code",
   "execution_count": 40,
   "id": "49dd0903",
   "metadata": {},
   "outputs": [
    {
     "name": "stdout",
     "output_type": "stream",
     "text": [
      "Введите день\n",
      "26\n",
      "Введите месяц\n",
      "Сентябрь\n",
      "Результат:\n",
      "Ваш знак зодиака: Весы\n"
     ]
    }
   ],
   "source": [
    "day = int(input('Введите день\\n'))\n",
    "month = (input('Введите месяц\\n'))\n",
    "if (month == 'Март' and day > 20) or (month == 'Апрель' and day < 21): print ('Результат:\\nВаш знак зодиака: Овен')\n",
    "elif (month == 'Апрель' and day > 20) or (month == 'Май' and day < 21): print ('Результат:\\nВаш знак зодиака: Телец')\n",
    "elif (month == 'Май' and day > 20) or (month == 'Июнь' and day < 22): print ('Результат:\\nВаш знак зодиака: Близнецы')\n",
    "elif (month == 'Июнь' and day > 21) or (month == 'Июль' and day < 23): print ('Результат:\\nВаш знак зодиака: Рак')\n",
    "elif (month == 'Июль' and day > 22) or (month == 'Август' and day < 23): print ('Результат:\\nВаш знак зодиака: Лев')\n",
    "elif (month == 'Август' and day > 22) or (month == 'Сентябрь' and day < 23): print ('Результат:\\nВаш знак зодиака: Дева')\n",
    "elif (month == 'Сентябрь' and day > 22) or (month == 'Октябрь' and day < 23): print ('Результат:\\nВаш знак зодиака: Весы')\n",
    "elif (month == 'Октябрь' and day > 22) or (month == 'Ноябрь' and day < 22): print ('Результат:\\nВаш знак зодиака: Скорпион')\n",
    "elif (month == 'Ноябрь' and day > 21) or (month == 'Декабрь' and day < 21): print ('Результат:\\nВаш знак зодиака: Стрелец')\n",
    "elif (month == 'Декабрь' and day > 20) or (month == 'Январь' and day < 20): print ('Результат:\\nВаш знак зодиака: Козерог')\n",
    "elif (month == 'Январь' and day > 19) or (month == 'Февраль' and day < 20): print ('Результат:\\nВаш знак зодиака: Водолей')\n",
    "elif (month == 'Февраль' and day > 19) or (month == 'Март' and day < 21): print ('Результат:\\nВаш знак зодиака: Рыбы') "
   ]
  },
  {
   "cell_type": "markdown",
   "id": "2c7309e1",
   "metadata": {},
   "source": [
    "### Задание 4"
   ]
  },
  {
   "cell_type": "code",
   "execution_count": 52,
   "id": "9636ea75",
   "metadata": {},
   "outputs": [
    {
     "name": "stdout",
     "output_type": "stream",
     "text": [
      "Введите ширину в сантиметрах 20\n",
      "Введите длину в сантиметрах 30\n",
      "Введите высоту в сантиметрах 50\n",
      "Ширина = 20\n",
      "Длина = 30\n",
      "Высота = 50\n",
      "Стандартная коробка №3\n"
     ]
    }
   ],
   "source": [
    "width = int(input('Введите ширину в сантиметрах '))\n",
    "length = int(input('Введите длину в сантиметрах '))\n",
    "heigth = int(input('Введите высоту в сантиметрах '))\n",
    "print('Ширина =', width)\n",
    "print('Длина =', length)\n",
    "print('Высота =', heigth)\n",
    "if length > 200: \n",
    "    print ('Упаковка для лыж')\n",
    "elif width < 15 and length <15 and heigth < 15: \n",
    "    print ('Коробка №1')\n",
    "elif width < 50 and length <50 and heigth < 50: \n",
    "    print ('Коробка №2')\n",
    "else: \n",
    "    print ('Стандартная коробка №3')"
   ]
  },
  {
   "cell_type": "markdown",
   "id": "e98a7c19",
   "metadata": {},
   "source": [
    "### Задание 5"
   ]
  },
  {
   "cell_type": "code",
   "execution_count": 60,
   "id": "313807b0",
   "metadata": {},
   "outputs": [
    {
     "name": "stdout",
     "output_type": "stream",
     "text": [
      "Введите номер билета 123006\n",
      "Результат:\n",
      "Счастливый билет\n"
     ]
    }
   ],
   "source": [
    "a = [int(i) for i in input('Введите номер билета ')]\n",
    "if sum(a[:3]) == sum(a[3:]):\n",
    "    print('Результат:\\nСчастливый билет')\n",
    "else:\n",
    "    print('Результат:\\nНесчастливый билет')"
   ]
  },
  {
   "cell_type": "markdown",
   "id": "c3ac07e0",
   "metadata": {},
   "source": [
    "### Задание 6"
   ]
  },
  {
   "cell_type": "code",
   "execution_count": 6,
   "id": "30794122",
   "metadata": {},
   "outputs": [
    {
     "name": "stdout",
     "output_type": "stream",
     "text": [
      "Форма фигуры: круг, треугольник или прямоугольникпрямоугольник\n",
      "длины стороны a 93\n",
      "длины стороны b 64\n",
      "Результат:\n",
      "Площадь прямоугольника 5952\n"
     ]
    }
   ],
   "source": [
    "import math\n",
    "shape = input('Форма фигуры: круг, треугольник или прямоугольник')\n",
    "if shape == 'круг':\n",
    "    rad = int(input('введите радиус '))\n",
    "    print ('Результат:\\nПлощадь круга', (rad**2)*math.pi)\n",
    "elif shape == 'треугольник':\n",
    "    sidet1 = int(input('длины стороны a '))\n",
    "    sidet2 = int(input('длины стороны b '))\n",
    "    sidet3 = int(input('длины стороны c '))\n",
    "    hper = (sidet1+sidet2+sidet3)/2\n",
    "    print ('Результат:\\nПлощадь треугольника', math.sqrt(hper * (hper - sidet1) * (hper - sidet2) * (hper - sidet3)))\n",
    "elif shape == 'прямоугольник':\n",
    "    sidep1 = int(input('длины стороны a '))\n",
    "    sidep2 = int(input('длины стороны b '))\n",
    "    print ('Результат:\\nПлощадь прямоугольника', sidep1*sidep2)"
   ]
  }
 ],
 "metadata": {
  "kernelspec": {
   "display_name": "Python 3",
   "language": "python",
   "name": "python3"
  },
  "language_info": {
   "codemirror_mode": {
    "name": "ipython",
    "version": 3
   },
   "file_extension": ".py",
   "mimetype": "text/x-python",
   "name": "python",
   "nbconvert_exporter": "python",
   "pygments_lexer": "ipython3",
   "version": "3.8.8"
  }
 },
 "nbformat": 4,
 "nbformat_minor": 5
}
