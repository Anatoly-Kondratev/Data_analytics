{
 "cells": [
  {
   "cell_type": "markdown",
   "id": "34aff00c",
   "metadata": {},
   "source": [
    "### Задание 1"
   ]
  },
  {
   "cell_type": "code",
   "execution_count": 12,
   "id": "93272fe4",
   "metadata": {},
   "outputs": [
    {
     "name": "stdout",
     "output_type": "stream",
     "text": [
      "Введите слово: railwaystation\n",
      "ys\n"
     ]
    }
   ],
   "source": [
    "word = (input('Введите слово: '))\n",
    "lenw = len(word)\n",
    "if lenw%2 == 0:\n",
    "    print(word[int(lenw/2-1):int(lenw/2+1)])\n",
    "else:\n",
    "    print(word[int(lenw/2)])"
   ]
  },
  {
   "cell_type": "markdown",
   "id": "ceb093b6",
   "metadata": {},
   "source": [
    "### Задание 2"
   ]
  },
  {
   "cell_type": "code",
   "execution_count": 20,
   "id": "1b3f5d63",
   "metadata": {},
   "outputs": [
    {
     "name": "stdout",
     "output_type": "stream",
     "text": [
      "Введите число: 1\n",
      "Введите число: 2\n",
      "Введите число: 3\n",
      "Введите число: 4\n",
      "Введите число: 5\n",
      "Введите число: 6\n",
      "Введите число: 7\n",
      "Введите число: 8\n",
      "Введите число: 9\n",
      "Введите число: 0\n",
      "Результат: 45\n"
     ]
    }
   ],
   "source": [
    "sum = 0\n",
    "a = 1\n",
    "while a != 0:\n",
    "    a = int(input('Введите число: '))\n",
    "    sum += a\n",
    "print('Результат:', sum)"
   ]
  },
  {
   "cell_type": "markdown",
   "id": "37cbf49b",
   "metadata": {},
   "source": [
    "### Задание 3"
   ]
  },
  {
   "cell_type": "code",
   "execution_count": 35,
   "id": "a61c5a52",
   "metadata": {},
   "outputs": [
    {
     "name": "stdout",
     "output_type": "stream",
     "text": [
      "Идеальные пары:\n",
      "Alex  и  Emma\n",
      "Arthur  и  Kate\n",
      "John  и  Kira\n",
      "Michael  и  Liza\n",
      "Peter  и  Sophie\n",
      "Richard  и  Trisha\n"
     ]
    }
   ],
   "source": [
    "boys = ['Peter', 'Alex', 'John', 'Arthur', 'Richard', 'Michael']\n",
    "# girls = ['Kate', 'Liza', 'Kira', 'Emma', 'Trisha']\n",
    "girls = ['Kate', 'Liza', 'Kira', 'Emma', 'Trisha', 'Sophie']\n",
    "\n",
    "if len(boys) != len(girls):\n",
    "    print('Внимание, кто-то может остаться без пары!')\n",
    "else:\n",
    "    i = 0\n",
    "    print('Идеальные пары:')\n",
    "    while i != len(boys):\n",
    "        print(sorted(boys)[i],' и ',sorted(girls)[i])\n",
    "        i += 1"
   ]
  },
  {
   "cell_type": "markdown",
   "id": "e4e280c8",
   "metadata": {},
   "source": [
    "### Задание 4"
   ]
  },
  {
   "cell_type": "code",
   "execution_count": 93,
   "id": "1deec08f",
   "metadata": {},
   "outputs": [
    {
     "name": "stdout",
     "output_type": "stream",
     "text": [
      "Средняя температура в странах:\n",
      "Thailand  -  23.9  C\n",
      "Germany  -  13.8  C\n",
      "Russia  -  3.7  C\n",
      "Poland  -  12.0  C\n"
     ]
    }
   ],
   "source": [
    "countries_temperature = [\n",
    "    ['Thailand', [75.2, 77, 78.8, 73.4, 68, 75.2, 77]],\n",
    "    ['Germany', [57.2, 55.4, 59, 59, 53.6]],\n",
    "    ['Russia', [35.6, 37.4, 39.2, 41, 42.8, 39.2, 35.6]],\n",
    "    ['Poland', [50, 50, 53.6, 57.2, 55.4, 55.4]]\n",
    "]\n",
    "import statistics\n",
    "print('Средняя температура в странах:')\n",
    "for country in countries_temperature:\n",
    "    print(country[0],' - ',\"%.1f\" % (float(statistics.mean(country[1])-32)*5/9),' C')\n",
    "#print((statistics.mean(countries_temperature[0][1])-32)*5/9)"
   ]
  },
  {
   "cell_type": "code",
   "execution_count": null,
   "id": "b53eae5b",
   "metadata": {},
   "outputs": [],
   "source": []
  }
 ],
 "metadata": {
  "kernelspec": {
   "display_name": "Python 3",
   "language": "python",
   "name": "python3"
  },
  "language_info": {
   "codemirror_mode": {
    "name": "ipython",
    "version": 3
   },
   "file_extension": ".py",
   "mimetype": "text/x-python",
   "name": "python",
   "nbconvert_exporter": "python",
   "pygments_lexer": "ipython3",
   "version": "3.8.8"
  }
 },
 "nbformat": 4,
 "nbformat_minor": 5
}
